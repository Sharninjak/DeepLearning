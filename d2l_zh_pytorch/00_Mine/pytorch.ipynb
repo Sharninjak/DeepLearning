{
 "cells": [
  {
   "cell_type": "code",
   "execution_count": 1,
   "metadata": {},
   "outputs": [],
   "source": [
    "import torch"
   ]
  },
  {
   "cell_type": "markdown",
   "metadata": {},
   "source": [
    "#### 布尔数组疑是比较求和"
   ]
  },
  {
   "cell_type": "code",
   "execution_count": 2,
   "metadata": {},
   "outputs": [
    {
     "name": "stdout",
     "output_type": "stream",
     "text": [
      "Comparison result: tensor([ True, False, False,  True,  True])\n",
      "Sum of comparison: 3\n"
     ]
    }
   ],
   "source": [
    "# 创建两个布尔数组\n",
    "bool_array1 = torch.tensor([True, False, True, False, True])\n",
    "bool_array2 = torch.tensor([True, True, False, False, True])\n",
    "\n",
    "# 比较两个布尔数组\n",
    "comparison = bool_array1 == bool_array2\n",
    "\n",
    "# 对比较结果求和\n",
    "sum_comparison = comparison.sum().item()\n",
    "\n",
    "# 输出结果\n",
    "print(\"Comparison result:\", comparison)\n",
    "print(\"Sum of comparison:\", sum_comparison)"
   ]
  }
 ],
 "metadata": {
  "kernelspec": {
   "display_name": "d2l",
   "language": "python",
   "name": "d2l"
  },
  "language_info": {
   "codemirror_mode": {
    "name": "ipython",
    "version": 3
   },
   "file_extension": ".py",
   "mimetype": "text/x-python",
   "name": "python",
   "nbconvert_exporter": "python",
   "pygments_lexer": "ipython3",
   "version": "3.9.19"
  }
 },
 "nbformat": 4,
 "nbformat_minor": 2
}
